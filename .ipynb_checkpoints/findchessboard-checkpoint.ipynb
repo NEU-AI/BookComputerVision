{
 "cells": [
  {
   "cell_type": "markdown",
   "metadata": {},
   "source": [
    "# Hello, _nbpresent_!"
   ]
  },
  {
   "cell_type": "code",
   "execution_count": null,
   "metadata": {
    "collapsed": true
   },
   "outputs": [],
   "source": [
    "import nbpresent\n",
    "nbpresent.__version__"
   ]
  },
  {
   "cell_type": "markdown",
   "metadata": {},
   "source": [
    "【知识目标】\n",
    "1. 灰度处理\n",
    "2. 腐蚀，膨胀\n",
    "3. 阈值处理\n",
    "4. 边缘检测\n",
    "5. 霍夫直线检测 \n",
    "\n",
    "【项目描述】\n",
    "\n",
    "完成五子棋对弈，第一步首先要识别出棋盘，通过图像处理解析图像，利用霍夫变换的直线检测画出实际棋盘。"
   ]
  },
  {
   "cell_type": "markdown",
   "metadata": {
    "nbpresent": {
     "id": "40f974a5-4485-40a9-a505-de6b9a58d9a3"
    }
   },
   "source": [
    "【涉及到的方法说明】\n",
    "\n",
    "1.读取图像OpenCV提供了方法cv2.imread来读取图像，该方法支持各种静态图像格式。该方法的语法格为：\n",
    "\n",
    "    retval=cv2.imread(filename[,flags])\n",
    "\n",
    "* retval 是返回值，其值就是读取到的图像，如果没有读取到图像，则返回“None”。\n",
    "* filename表示要读取的图像名字。\n",
    "* flags是读取标志。没有特殊要求可以不赋值，默认读取出的格式是BGR格式。\n",
    "\n",
    "要识别的图像如下图：\n",
    "\n",
    "![avatar](weiqi.jpeg)\n",
    "\n",
    "2.显示图像使用cv2.imshow()方法，该方法的语法格式为：\n",
    "\n",
    "    None = cv2.imshow(winname,mat)\n",
    "\n",
    "* winname为窗口名称\n",
    "* mat为要显示的图像\n",
    "\n",
    "\n",
    "3.等待按键使用cv2.waitKey()方法，当用户按下键盘后，该语句会被执行，并获取返回值。该方法的语法格式为：\n",
    "\n",
    "    retval = cv2.waitKey([delay])\n",
    "\n",
    "* retval 是返回值。如果没有按键被按下，则返回-1，如果有按键被按下，则返回按键的ASCII码。\n",
    "* delay表示等待的时间，单位为毫秒，如果为-1或0比欧式无限等待，默认为0。\n",
    "\n",
    "4.释放资源使用cv2.destroyAllWindows()方法用来释放指定窗口，该方法的语法格式为：\n",
    "\n",
    "    None = cv2.destroyAllWindows(winname)\n",
    "\n",
    "*  winname为窗口名称\n",
    "\n",
    "5.使用cv2.threshold（）方法进行阈值化处理，该函数的语法格式为：\n",
    "\n",
    "    retval,dst=cv2.threshold（src,thresh,maxval,type）\n",
    "    \n",
    "* retval代表返回的阈值\n",
    "* dst代表阈值分割结果图像，与原始图像具有相同的大小和类型。\n",
    "* src代表要进行阈值分割的图像，可以是多通道的，8位或32位浮点型数值。\n",
    "* thresh代表要设定的阈值\n",
    "* maxval代表当type参数为THRESH_BINARY或者THRESH_BINARY_INV类型时，需要设定的最大值。\n",
    "\n",
    "6.使用方法cv2.erode（）实现腐蚀操作，其语法格式为：\n",
    "\n",
    "    dst=cv2.erode（src,kernel[,anchor[,iterations[,borderType[,borderValue]]]]）\n",
    "    \n",
    "* dst是腐蚀后所输出的目标图像，该图像和原始图像具有同样的类型和大小\n",
    "* src 是需要进行腐蚀的原始图像，图像的通道数可以是任意的。\n",
    "* kernel 代表腐蚀操作时所采用的结构类型。它可以自定义生成，也可以通过函数cv2.getStructuringElement（）生成。\n",
    "* anchor代表element结构中锚点的位置。该值默认为（-1,-1），在核的中心位置。\n",
    "* iterations是腐蚀操作迭代的次数，该值默认为1，即只进行一次腐蚀操作。\n",
    "* borderType代表边界样式，一般采用其默认值BORDER_CONSTANT。\n",
    "* borderValue 是边界值，一般采用默认值。\n",
    "\n",
    "7.使用方法cv2.dilate（）实现对图像的膨胀操作，该函数的语法结构为,参数与腐蚀相同：\n",
    "\n",
    "    dst=cv2.dilate（src,kernel[,anchor[,iterations[,borderType[,borderValue]]]]）\n",
    "\n",
    "8.使用方法cv2.HoughLinesP（）实现直线检测，该函数的语法结构为：\n",
    "\n",
    "    lines=cv2.HoughLinesP(image,rho,theta,threshold,minLineLength,maxLineGap)\n",
    "\n",
    "* image为输入的图像\n",
    "* rho为以像素为单位的距离ρ的精度，通常情况使用精度1\n",
    "* theta是角度θ的精度，一般情况下使用精度π/180，表示要搜索所有可能的角度。\n",
    "* threshold是阈值。该值越小，判定出的直线就越多。\n",
    "* minLineLength为接受直线的最小长度值，默认为0。\n",
    "* maxLineGap为两点最大间隔。默认为0。\n",
    "* lines是返回值为numpy.ndarray类型的元素构成，但不是直线的ρ和θ，而是两个直线点的坐标位置。\n",
    "\n",
    "9.画线OpenCV提供了方法cv2.line()用来绘制直线，该方法的语法格式为：\n",
    "\n",
    "    img = cv2.line(img,pt1,pt2,color[,thickness[,lineType]])\n",
    "\n",
    "* img 其值就是要绘制的图像载体，也可以成为画板\n",
    "* pt1表示线段的第一个点，起点。\n",
    "* pt2表示线段的第二个点，终点。\n",
    "* color表示绘制形状的颜色。通常使用BGR模型表示。\n",
    "* thickness表示线宽\n",
    "* lineType 表示线条类型。通常使用默认即可。\n"
   ]
  },
  {
   "cell_type": "markdown",
   "metadata": {},
   "source": [
    "【识别棋盘思路】\n",
    "\n",
    "1. 读取图片\n",
    "2. 灰度处理\n",
    "3. 阈值处理成黑白图\n",
    "4. 使用膨胀和腐蚀去除干扰的无关边和噪声\n",
    "5. 边缘检测\n",
    "6. 霍夫变换识别直线\n",
    "7. 绘制直线"
   ]
  },
  {
   "cell_type": "code",
   "execution_count": 130,
   "metadata": {
    "collapsed": true,
    "nbpresent": {
     "id": "52045657-431b-4dbc-8ffb-6a14d7912552"
    }
   },
   "outputs": [],
   "source": [
    "import cv2"
   ]
  },
  {
   "cell_type": "code",
   "execution_count": 131,
   "metadata": {
    "collapsed": true,
    "nbpresent": {
     "id": "0c20aafc-7ece-4831-bf99-6981619f480a"
    }
   },
   "outputs": [],
   "source": [
    "import numpy as np"
   ]
  },
  {
   "cell_type": "code",
   "execution_count": 132,
   "metadata": {
    "collapsed": true
   },
   "outputs": [],
   "source": [
    "import copy"
   ]
  },
  {
   "cell_type": "code",
   "execution_count": 133,
   "metadata": {
    "collapsed": true,
    "nbpresent": {
     "id": "be4e69b1-69b6-4e1c-8b42-58cc74563ba2"
    }
   },
   "outputs": [],
   "source": [
    "imagechessbord = cv2.imread(\"weiqi.jpeg\")"
   ]
  },
  {
   "cell_type": "code",
   "execution_count": 134,
   "metadata": {
    "nbpresent": {
     "id": "2d45cf72-2f4b-455d-9684-90508f1955b7"
    }
   },
   "outputs": [],
   "source": [
    "gray = cv2.cvtColor(imagechessbord, cv2.COLOR_BGR2GRAY)"
   ]
  },
  {
   "cell_type": "code",
   "execution_count": 135,
   "metadata": {
    "collapsed": true,
    "nbpresent": {
     "id": "d8ede9a3-d341-49cc-bb38-1bb59b9a00dd"
    }
   },
   "outputs": [],
   "source": [
    "ret, thresh1 = cv2.threshold(gray, 127, 255, cv2.THRESH_BINARY_INV)"
   ]
  },
  {
   "cell_type": "code",
   "execution_count": 136,
   "metadata": {
    "nbpresent": {
     "id": "63e12248-8254-4626-b3f8-03c9b03db0c2"
    }
   },
   "outputs": [],
   "source": [
    "kernel = np.ones((3, 3), np.uint8)"
   ]
  },
  {
   "cell_type": "code",
   "execution_count": 137,
   "metadata": {
    "collapsed": true,
    "nbpresent": {
     "id": "2a4b9475-fae1-44f4-85a8-895a3de27694"
    }
   },
   "outputs": [],
   "source": [
    "edged = cv2.dilate(thresh1, kernel)"
   ]
  },
  {
   "cell_type": "code",
   "execution_count": 138,
   "metadata": {
    "collapsed": true,
    "nbpresent": {
     "id": "0bfe79d8-0f8f-4384-a57c-e86ce64becff"
    }
   },
   "outputs": [],
   "source": [
    "edged = cv2.erode(edged, kernel)"
   ]
  },
  {
   "cell_type": "code",
   "execution_count": 139,
   "metadata": {
    "collapsed": true,
    "nbpresent": {
     "id": "2ea19192-ecf1-4d6b-ab65-1dcb74e75dde"
    }
   },
   "outputs": [],
   "source": [
    "edged = cv2.Canny(edged, 50, 150)"
   ]
  },
  {
   "cell_type": "code",
   "execution_count": 140,
   "metadata": {
    "nbpresent": {
     "id": "ffa61aad-896e-4905-bc34-0669b9bb6b10"
    }
   },
   "outputs": [],
   "source": [
    "cv2.imshow('Edges', edged)"
   ]
  },
  {
   "cell_type": "code",
   "execution_count": 141,
   "metadata": {
    "collapsed": true,
    "nbpresent": {
     "id": "319571b2-35d5-46a5-8aac-fd53ef819c40"
    }
   },
   "outputs": [],
   "source": [
    "lines  =  cv2.HoughLinesP(edged,1,np.pi/180,1,minLineLength=160,maxLineGap=15)"
   ]
  },
  {
   "cell_type": "code",
   "execution_count": 142,
   "metadata": {
    "collapsed": true,
    "nbpresent": {
     "id": "57a791ca-0669-439e-8f7f-317e89190021"
    }
   },
   "outputs": [],
   "source": [
    "image_result = np.ones(imagechessbord.shape)"
   ]
  },
  {
   "cell_type": "code",
   "execution_count": 143,
   "metadata": {
    "nbpresent": {
     "id": "7247a819-afaa-4d11-a372-83fd1e0a8b9c"
    }
   },
   "outputs": [],
   "source": [
    "for  line  in  lines:\n",
    "    x1, y1, x2, y2 = line[0]\n",
    "    cv2.line(imagechessbord,(x1,y1),(x2,y2),(255,0,255),1)"
   ]
  },
  {
   "cell_type": "code",
   "execution_count": 144,
   "metadata": {
    "nbpresent": {
     "id": "24937e93-f3e7-466c-937a-2bc87b85dc4c"
    }
   },
   "outputs": [],
   "source": [
    "cv2.imshow('Result', imagechessbord)"
   ]
  },
  {
   "cell_type": "code",
   "execution_count": 145,
   "metadata": {
    "nbpresent": {
     "id": "dceeb4a9-7b7f-429b-bad7-2eb1b224529b"
    }
   },
   "outputs": [],
   "source": [
    "cv2.waitKey()"
   ]
  },
  {
   "cell_type": "code",
   "execution_count": 146,
   "metadata": {
    "nbpresent": {
     "id": "bd3d31d3-d5fb-4b6c-b47f-9c3a066ccee4"
    }
   },
   "outputs": [],
   "source": [
    "cv2.destroyAllWindows()"
   ]
  },
  {
   "cell_type": "code",
   "execution_count": 163,
   "metadata": {
    "collapsed": true
   },
   "outputs": [],
   "source": [
    "def showresult(newlinex,newliney,imagechessbord):\n",
    "    #看效果\n",
    "    image_result = np.ones(imagechessbord.shape)\n",
    "    countx = len(newlinex)\n",
    "    county = len(newliney)\n",
    "    for i in range(0, countx):\n",
    "        x1, y1, x2, y2 = newlinex[i]\n",
    "        cv2.line(image_result, (x1, y1), (x2, y2), (255, 0, 255), 1)\n",
    "\n",
    "    for i in range(0, county):\n",
    "        x1, y1, x2, y2 = newliney[i]\n",
    "        cv2.line(image_result, (x1, y1), (x2, y2), (255, 0, 255), 1)\n",
    "    cv2.imshow('Result', image_result)\n",
    "    cv2.waitKey()\n",
    "    cv2.destroyAllWindows()"
   ]
  },
  {
   "cell_type": "markdown",
   "metadata": {},
   "source": [
    "通过最后的效果图可以看出实际识别出来的直线多，并且有些直线没有贯穿整个棋盘，所以还需要把多余的线处理掉，修复过短的直线。"
   ]
  },
  {
   "cell_type": "markdown",
   "metadata": {},
   "source": [
    "定义保存交点数组，行和列线的数组，使用HoughLinesP识别直线"
   ]
  },
  {
   "cell_type": "code",
   "execution_count": 164,
   "metadata": {},
   "outputs": [],
   "source": [
    "crossArr = []\n",
    "linesx = []\n",
    "linesy = []\n",
    "\n",
    "lines = cv2.HoughLinesP(edged, 1, np.pi / 180, 1, minLineLength=160, maxLineGap=15)"
   ]
  },
  {
   "cell_type": "markdown",
   "metadata": {},
   "source": [
    "根据识别的直线列表，分别保存行和列线"
   ]
  },
  {
   "cell_type": "code",
   "execution_count": 165,
   "metadata": {
    "collapsed": true
   },
   "outputs": [],
   "source": [
    "# 提取出行和列\n",
    "for line in lines:\n",
    "    x1, y1, x2, y2 = line[0]\n",
    "    if x1 == x2:\n",
    "        linesy.append(line[0])\n",
    "\n",
    "    elif y1 == y2:\n",
    "        linesx.append(line[0])"
   ]
  },
  {
   "cell_type": "code",
   "execution_count": 166,
   "metadata": {},
   "outputs": [
    {
     "name": "stdout",
     "output_type": "stream",
     "text": [
      "('row:', [array([ 26,  47, 466,  47], dtype=int32), array([ 26,  72, 466,  72], dtype=int32), array([ 27, 196, 468, 196], dtype=int32), array([ 27, 247, 466, 247], dtype=int32), array([ 27, 173, 466, 173], dtype=int32), array([ 26, 297, 466, 297], dtype=int32), array([ 26, 220, 466, 220], dtype=int32), array([ 26, 148, 465, 148], dtype=int32), array([ 26, 122, 466, 122], dtype=int32), array([ 26, 369, 466, 369], dtype=int32), array([ 27, 418, 465, 418], dtype=int32), array([ 26,  99, 465,  99], dtype=int32), array([ 27, 198, 468, 198], dtype=int32), array([ 27, 171, 466, 171], dtype=int32), array([ 26, 295, 466, 295], dtype=int32), array([ 26, 371, 466, 371], dtype=int32), array([ 26, 319, 466, 319], dtype=int32), array([ 26,  97, 465,  97], dtype=int32), array([ 26, 270, 466, 270], dtype=int32), array([ 29, 124, 465, 124], dtype=int32), array([ 28, 344, 465, 344], dtype=int32), array([ 26,  25, 466,  25], dtype=int32), array([ 26, 272, 466, 272], dtype=int32), array([ 26, 321, 466, 321], dtype=int32), array([139, 420, 381, 420], dtype=int32), array([ 26, 393, 466, 393], dtype=int32), array([ 27, 245, 466, 245], dtype=int32), array([ 26, 146, 465, 146], dtype=int32), array([105,  23, 468,  23], dtype=int32), array([ 28, 346, 465, 346], dtype=int32), array([ 26,  74, 466,  74], dtype=int32)])\n",
      "('column:', [array([344, 428, 344,  23], dtype=int32), array([445, 428, 445,  23], dtype=int32), array([467, 428, 467,  23], dtype=int32), array([ 49, 428,  49,  23], dtype=int32), array([319, 428, 319,  23], dtype=int32), array([369, 428, 369, 266], dtype=int32), array([346, 428, 346,  23], dtype=int32), array([418, 428, 418,  23], dtype=int32), array([443, 428, 443,  23], dtype=int32), array([ 23, 419,  23,  24], dtype=int32), array([247, 428, 247,  23], dtype=int32), array([173, 428, 173,  23], dtype=int32), array([ 99, 428,  99,  23], dtype=int32), array([148, 428, 148,  23], dtype=int32), array([294, 428, 294,  23], dtype=int32), array([121, 428, 121,  23], dtype=int32), array([ 47, 427,  47,  23], dtype=int32), array([270, 428, 270,  23], dtype=int32), array([ 74, 427,  74,  23], dtype=int32), array([ 72, 420,  72,  23], dtype=int32), array([245, 428, 245,  23], dtype=int32), array([146, 428, 146,  23], dtype=int32), array([469, 418, 469,  25], dtype=int32), array([420, 428, 420,  23], dtype=int32), array([222, 428, 222,  23], dtype=int32), array([220, 428, 220,  23], dtype=int32), array([395, 420, 395,  23], dtype=int32), array([272, 428, 272,  23], dtype=int32), array([ 25, 420,  25,  23], dtype=int32), array([ 97, 428,  97,  23], dtype=int32), array([171, 428, 171,  23], dtype=int32), array([196, 428, 196,  23], dtype=int32), array([393, 420, 393,  23], dtype=int32), array([198, 428, 198,  23], dtype=int32), array([368, 241, 368,  23], dtype=int32), array([321, 428, 321,  23], dtype=int32), array([371, 428, 371, 267], dtype=int32)])\n"
     ]
    }
   ],
   "source": [
    "print(\"row:\",linesx)\n",
    "print(\"column:\",linesy)"
   ]
  },
  {
   "cell_type": "markdown",
   "metadata": {},
   "source": [
    "把行列表根据坐标从左到右排序，采用冒泡排序方式坐标值小的在前，大的在后，为了后续计算交点"
   ]
  },
  {
   "cell_type": "code",
   "execution_count": 167,
   "metadata": {
    "collapsed": true
   },
   "outputs": [],
   "source": [
    "# 行和列进行排序\n",
    "countx = len(linesx)\n",
    "\n",
    "for i in range(countx):  # type: int\n",
    "    for j in range(0, countx - i - 1):\n",
    "        if linesx[j][1] > linesx[j + 1][1]:\n",
    "            linesx[j], linesx[j + 1] = linesx[j + 1], linesx[j]\n",
    "\n",
    "firstypos = linesx[0][1]#保存第一条行线的y值\n",
    "finalypos = linesx[countx - 1][1]#保存最后一条行线的y值\n",
    "\n",
    "county = len(linesy)\n",
    "\n",
    "for i in range(county):\n",
    "    for j in range(0, county - i - 1):\n",
    "        if linesy[j][0] > linesy[j + 1][0]:\n",
    "            linesy[j], linesy[j + 1] = linesy[j + 1], linesy[j]\n",
    "\n",
    "firstxpos = linesy[0][0]#保存第一条列线的x值\n",
    "finalxpos = linesy[county - 1][0]#保存最后一条列线的x值"
   ]
  },
  {
   "cell_type": "code",
   "execution_count": 168,
   "metadata": {
    "scrolled": true
   },
   "outputs": [
    {
     "name": "stdout",
     "output_type": "stream",
     "text": [
      "('sorted row:', [array([105,  23, 468,  23], dtype=int32), array([ 26,  25, 466,  25], dtype=int32), array([ 26,  47, 466,  47], dtype=int32), array([ 26,  72, 466,  72], dtype=int32), array([ 26,  74, 466,  74], dtype=int32), array([ 26,  97, 465,  97], dtype=int32), array([ 26,  99, 465,  99], dtype=int32), array([ 26, 122, 466, 122], dtype=int32), array([ 29, 124, 465, 124], dtype=int32), array([ 26, 146, 465, 146], dtype=int32), array([ 26, 148, 465, 148], dtype=int32), array([ 27, 171, 466, 171], dtype=int32), array([ 27, 173, 466, 173], dtype=int32), array([ 27, 196, 468, 196], dtype=int32), array([ 27, 198, 468, 198], dtype=int32), array([ 26, 220, 466, 220], dtype=int32), array([ 27, 245, 466, 245], dtype=int32), array([ 27, 247, 466, 247], dtype=int32), array([ 26, 270, 466, 270], dtype=int32), array([ 26, 272, 466, 272], dtype=int32), array([ 26, 295, 466, 295], dtype=int32), array([ 26, 297, 466, 297], dtype=int32), array([ 26, 319, 466, 319], dtype=int32), array([ 26, 321, 466, 321], dtype=int32), array([ 28, 344, 465, 344], dtype=int32), array([ 28, 346, 465, 346], dtype=int32), array([ 26, 369, 466, 369], dtype=int32), array([ 26, 371, 466, 371], dtype=int32), array([ 26, 393, 466, 393], dtype=int32), array([ 27, 418, 465, 418], dtype=int32), array([139, 420, 381, 420], dtype=int32)])\n",
      "('sorted column:', [array([ 23, 419,  23,  24], dtype=int32), array([ 25, 420,  25,  23], dtype=int32), array([ 47, 427,  47,  23], dtype=int32), array([ 49, 428,  49,  23], dtype=int32), array([ 72, 420,  72,  23], dtype=int32), array([ 74, 427,  74,  23], dtype=int32), array([ 97, 428,  97,  23], dtype=int32), array([ 99, 428,  99,  23], dtype=int32), array([121, 428, 121,  23], dtype=int32), array([146, 428, 146,  23], dtype=int32), array([148, 428, 148,  23], dtype=int32), array([171, 428, 171,  23], dtype=int32), array([173, 428, 173,  23], dtype=int32), array([196, 428, 196,  23], dtype=int32), array([198, 428, 198,  23], dtype=int32), array([220, 428, 220,  23], dtype=int32), array([222, 428, 222,  23], dtype=int32), array([245, 428, 245,  23], dtype=int32), array([247, 428, 247,  23], dtype=int32), array([270, 428, 270,  23], dtype=int32), array([272, 428, 272,  23], dtype=int32), array([294, 428, 294,  23], dtype=int32), array([319, 428, 319,  23], dtype=int32), array([321, 428, 321,  23], dtype=int32), array([344, 428, 344,  23], dtype=int32), array([346, 428, 346,  23], dtype=int32), array([368, 241, 368,  23], dtype=int32), array([369, 428, 369, 266], dtype=int32), array([371, 428, 371, 267], dtype=int32), array([393, 420, 393,  23], dtype=int32), array([395, 420, 395,  23], dtype=int32), array([418, 428, 418,  23], dtype=int32), array([420, 428, 420,  23], dtype=int32), array([443, 428, 443,  23], dtype=int32), array([445, 428, 445,  23], dtype=int32), array([467, 428, 467,  23], dtype=int32), array([469, 418, 469,  25], dtype=int32)])\n"
     ]
    }
   ],
   "source": [
    "print(\"sorted row:\",linesx)\n",
    "print(\"sorted column:\",linesy)"
   ]
  },
  {
   "cell_type": "markdown",
   "metadata": {},
   "source": [
    "因为有邻近的线，所以需要去掉一个只保留一条线作为棋盘线，根据图像大概两条间距会小于5像素，所以相邻的两条线如果间距小于5像素，就保留前一条，也可以保留后一条。如果相邻的两条线间距大于5，再判断后一条线与相邻线的间距，如果后一条线的间距大于5就保留相邻线，否则抛弃。"
   ]
  },
  {
   "cell_type": "code",
   "execution_count": 169,
   "metadata": {
    "collapsed": true
   },
   "outputs": [],
   "source": [
    "newlinex = []\n",
    "\n",
    "for i in range(countx - 1):\n",
    "    if i >= countx:\n",
    "        break\n",
    "    if linesx[i + 1][1] - linesx[i][1] <= 5:\n",
    "        newlinex.append(linesx[i])\n",
    "\n",
    "    elif linesx[i + 2][1] - linesx[i + 1][1] > 5:\n",
    "        newlinex.append(linesx[i + 1])\n",
    "        \n",
    "newliney = []\n",
    "\n",
    "for i in range(county - 1):\n",
    "    if i >= county:\n",
    "        break\n",
    "    if linesy[i + 1][0] - linesy[i][0] <= 5:\n",
    "        newliney.append(linesy[i])\n",
    "\n",
    "    elif linesy[i + 2][0] - linesy[i + 1][0] > 5:\n",
    "        newliney.append(linesy[i + 1])"
   ]
  },
  {
   "cell_type": "code",
   "execution_count": 170,
   "metadata": {},
   "outputs": [],
   "source": [
    "#看效果\n",
    "showresult(newlinex,newliney,imagechessbord)"
   ]
  },
  {
   "cell_type": "markdown",
   "metadata": {},
   "source": [
    "通过效果可以看到有线线段很短，没有闭合，还有的线段间距很近。所以还需要检查去除多余的线并延长过短的线段"
   ]
  },
  {
   "cell_type": "code",
   "execution_count": 171,
   "metadata": {
    "collapsed": true
   },
   "outputs": [],
   "source": [
    "temp_line = []\n",
    "county = len(newliney)\n",
    "index = 0\n",
    "\n",
    "#检查列是否还有距离小于5像素的线段\n",
    "while county > index:\n",
    "    temp_line.append(newliney[index])\n",
    "    if index + 1 == county:\n",
    "        break\n",
    "    if newliney[index + 1][0] - newliney[index][0] > 5:#列线段x轴相同所以临近线段判断x轴的值\n",
    "        index += 1\n",
    "    else:\n",
    "        index += 2\n",
    "\n",
    "newliney = copy.deepcopy(temp_line)\n",
    "temp_line = []\n",
    "index = 0\n",
    "countx = len(newlinex)\n",
    "\n",
    "#检查行是否还有距离小于5像素的线段\n",
    "while countx > index:\n",
    "    temp_line.append(newlinex[index])\n",
    "    if index + 1 == countx:\n",
    "        break\n",
    "    if newlinex[index + 1][1] - newlinex[index][1] > 5:#行线段y轴相同所以临近线段判断y轴的值\n",
    "        index += 1\n",
    "    else:\n",
    "        index += 2\n",
    "newlinex = copy.deepcopy(temp_line)\n",
    "temp_line = []"
   ]
  },
  {
   "cell_type": "code",
   "execution_count": 172,
   "metadata": {
    "collapsed": true
   },
   "outputs": [],
   "source": [
    "#看效果\n",
    "showresult(newlinex,newliney,imagechessbord)"
   ]
  },
  {
   "cell_type": "markdown",
   "metadata": {},
   "source": [
    "可以看到列线段一条相邻大概1像素的线段被去掉了"
   ]
  },
  {
   "cell_type": "code",
   "execution_count": 173,
   "metadata": {
    "collapsed": true
   },
   "outputs": [],
   "source": [
    "# 根据长度和宽度，延长过短的线段\n",
    "countx = len(newlinex)\n",
    "for i in range(0, countx):\n",
    "    x1, y1, x2, y2 = newlinex[i]\n",
    "    # if( abs(x1 -x2) < finalXPos - firstXPos):\n",
    "    newlinex[i][0] = firstxpos#修改第一个点的x轴值x1\n",
    "    newlinex[i][2] = finalxpos#修改最后一个点的x轴值x2\n",
    "\n",
    "county = len(newliney)\n",
    "for i in range(0, county):\n",
    "    x1, y1, x2, y2 = newliney[i]\n",
    "    # if( abs(y1 -y2) < finalYPos - firstYPos):\n",
    "    newliney[i][1] = firstypos#修改第一个点的y轴值y1\n",
    "    newliney[i][3] = finalypos#修改最后一个点的y轴值y2\n"
   ]
  },
  {
   "cell_type": "code",
   "execution_count": null,
   "metadata": {
    "collapsed": true
   },
   "outputs": [],
   "source": [
    "#看效果\n",
    "showresult(newlinex,newliney,imagechessbord)"
   ]
  },
  {
   "cell_type": "code",
   "execution_count": null,
   "metadata": {
    "collapsed": true
   },
   "outputs": [],
   "source": [
    "#根据线段的坐标计算所有交点并保存在变量crossArr中\n",
    "for i in range(0, countx):\n",
    "    temparr = []\n",
    "    for j in range(0, county):\n",
    "        temparr.append((newliney[j][0], newlinex[i][1]))\n",
    "    # cv2.circle(imageResult,(newLineY[j][0],newLineX[i][1]),2,(0,0,255),1)\n",
    "    crossArr.append(temparr)"
   ]
  },
  {
   "cell_type": "code",
   "execution_count": 175,
   "metadata": {
    "collapsed": true
   },
   "outputs": [],
   "source": [
    "# 根据行的最后一个坐标和列的最后一个坐标，确定行和列的终点。\n",
    "finalxpos = crossArr[0][county - 1][0]\n",
    "finalypos = crossArr[countx - 1][0][1]\n",
    "\n",
    "# 更新把最后行交点和最后一列的交点做为棋盘的终线\n",
    "countx = len(newlinex)\n",
    "for i in range(0, countx):\n",
    "    x1, y1, x2, y2 = newlinex[i]\n",
    "    # if( abs(x1 -x2) < finalXPos - firstXPos):\n",
    "    newlinex[i][0] = firstxpos\n",
    "    newlinex[i][2] = finalxpos\n",
    "\n",
    "county = len(newliney)\n",
    "for i in range(0, county):\n",
    "    x1, y1, x2, y2 = newliney[i]\n",
    "    # if( abs(y1 -y2) < finalYPos - firstYPos):\n",
    "    newliney[i][1] = firstypos\n",
    "    newliney[i][3] = finalypos"
   ]
  },
  {
   "cell_type": "code",
   "execution_count": 176,
   "metadata": {
    "collapsed": true
   },
   "outputs": [],
   "source": [
    "#看效果\n",
    "showresult(newlinex,newliney,imagechessbord)"
   ]
  },
  {
   "cell_type": "code",
   "execution_count": null,
   "metadata": {
    "collapsed": true
   },
   "outputs": [],
   "source": []
  }
 ],
 "metadata": {
  "kernelspec": {
   "display_name": "Python [conda env:py27]",
   "language": "python",
   "name": "conda-env-py27-py"
  },
  "language_info": {
   "codemirror_mode": {
    "name": "ipython",
    "version": 2
   },
   "file_extension": ".py",
   "mimetype": "text/x-python",
   "name": "python",
   "nbconvert_exporter": "python",
   "pygments_lexer": "ipython2",
   "version": "2.7.17"
  },
  "nbpresent": {
   "slides": {
    "0111a578-0568-49d8-8c6c-af9e6ace2102": {
     "id": "0111a578-0568-49d8-8c6c-af9e6ace2102",
     "prev": "8d152579-d4d0-4b17-8bdc-07fe9b0d1161",
     "regions": {
      "8ea51036-13ad-47ca-ac4f-4d4a40f8703f": {
       "attrs": {
        "height": 0.8,
        "width": 0.8,
        "x": 0.1,
        "y": 0.1
       },
       "content": {
        "cell": "57a791ca-0669-439e-8f7f-317e89190021",
        "part": "whole"
       },
       "id": "8ea51036-13ad-47ca-ac4f-4d4a40f8703f"
      }
     }
    },
    "5078ef42-e6af-421f-adb3-d26667d85fa9": {
     "id": "5078ef42-e6af-421f-adb3-d26667d85fa9",
     "prev": "d8763a39-1d92-4145-b105-778c65fd74ef",
     "regions": {
      "31c4a170-f620-4357-82b2-10177ff98ee3": {
       "attrs": {
        "height": 0.8,
        "width": 0.8,
        "x": 0.1,
        "y": 0.1
       },
       "content": {
        "cell": "2a4b9475-fae1-44f4-85a8-895a3de27694",
        "part": "whole"
       },
       "id": "31c4a170-f620-4357-82b2-10177ff98ee3"
      }
     }
    },
    "59b46853-71a6-4ce9-914a-25980aab43f0": {
     "id": "59b46853-71a6-4ce9-914a-25980aab43f0",
     "prev": "c3d7ce78-79bb-46fa-a545-9070194d513b",
     "regions": {
      "57f2641f-0630-470f-9d6c-3de605f39998": {
       "attrs": {
        "height": 0.8,
        "width": 0.8,
        "x": 0.1,
        "y": 0.1
       },
       "content": {
        "cell": "24937e93-f3e7-466c-937a-2bc87b85dc4c",
        "part": "whole"
       },
       "id": "57f2641f-0630-470f-9d6c-3de605f39998"
      }
     }
    },
    "5c92f7c5-6033-4d74-98d1-9f3760f38230": {
     "id": "5c92f7c5-6033-4d74-98d1-9f3760f38230",
     "prev": "6bdac2eb-86ed-4e62-b8ae-e9a141f52bbb",
     "regions": {
      "1f0d1a1d-036f-4101-b315-1404a4242049": {
       "attrs": {
        "height": 0.8,
        "width": 0.8,
        "x": 0.1,
        "y": 0.1
       },
       "content": {
        "cell": "2ea19192-ecf1-4d6b-ab65-1dcb74e75dde",
        "part": "whole"
       },
       "id": "1f0d1a1d-036f-4101-b315-1404a4242049"
      }
     }
    },
    "6bdac2eb-86ed-4e62-b8ae-e9a141f52bbb": {
     "id": "6bdac2eb-86ed-4e62-b8ae-e9a141f52bbb",
     "prev": "5078ef42-e6af-421f-adb3-d26667d85fa9",
     "regions": {
      "3261ccd5-c05e-4b2f-82a3-c6c69db24703": {
       "attrs": {
        "height": 0.8,
        "width": 0.8,
        "x": 0.1,
        "y": 0.1
       },
       "content": {
        "cell": "0bfe79d8-0f8f-4384-a57c-e86ce64becff",
        "part": "whole"
       },
       "id": "3261ccd5-c05e-4b2f-82a3-c6c69db24703"
      }
     }
    },
    "70387ab5-d253-467d-9de0-c9aa143ff268": {
     "id": "70387ab5-d253-467d-9de0-c9aa143ff268",
     "prev": "a5e20b53-69e5-449d-b9a9-80bcb5ab5bb6",
     "regions": {
      "569ff2bd-872d-4e53-b526-ad29b2cff048": {
       "attrs": {
        "height": 0.8,
        "width": 0.8,
        "x": 0.1,
        "y": 0.1
       },
       "content": {
        "cell": "bd3d31d3-d5fb-4b6c-b47f-9c3a066ccee4",
        "part": "whole"
       },
       "id": "569ff2bd-872d-4e53-b526-ad29b2cff048"
      }
     }
    },
    "8d152579-d4d0-4b17-8bdc-07fe9b0d1161": {
     "id": "8d152579-d4d0-4b17-8bdc-07fe9b0d1161",
     "prev": "fde8dc2f-5cff-469e-9603-1939e1ac433e",
     "regions": {
      "054dea2f-19cc-47c7-8fb4-930762bb0b0d": {
       "attrs": {
        "height": 0.8,
        "width": 0.8,
        "x": 0.1,
        "y": 0.1
       },
       "content": {
        "cell": "319571b2-35d5-46a5-8aac-fd53ef819c40",
        "part": "whole"
       },
       "id": "054dea2f-19cc-47c7-8fb4-930762bb0b0d"
      }
     }
    },
    "a09c7aaf-2283-4466-b59e-28a3c1367365": {
     "id": "a09c7aaf-2283-4466-b59e-28a3c1367365",
     "prev": "be0bf2d9-7c22-4bb5-b4e1-36579c7366cd",
     "regions": {
      "219a62eb-b185-402f-9679-971613bf7dd0": {
       "attrs": {
        "height": 1,
        "width": 1,
        "x": 0,
        "y": 0
       },
       "id": "219a62eb-b185-402f-9679-971613bf7dd0"
      }
     }
    },
    "a4c7d033-0973-437b-9631-216fe19b060b": {
     "id": "a4c7d033-0973-437b-9631-216fe19b060b",
     "prev": "70387ab5-d253-467d-9de0-c9aa143ff268",
     "regions": {
      "812c845d-7ed6-4898-ad54-07522ebc031a": {
       "attrs": {
        "height": 0.8,
        "width": 0.8,
        "x": 0.1,
        "y": 0.1
       },
       "content": {
        "cell": "ad9b106f-8310-4d99-8bab-1267c4fbaac1",
        "part": "whole"
       },
       "id": "812c845d-7ed6-4898-ad54-07522ebc031a"
      }
     }
    },
    "a5e20b53-69e5-449d-b9a9-80bcb5ab5bb6": {
     "id": "a5e20b53-69e5-449d-b9a9-80bcb5ab5bb6",
     "prev": "59b46853-71a6-4ce9-914a-25980aab43f0",
     "regions": {
      "4c17c4f9-1511-41e6-9ad3-f8104d12ee91": {
       "attrs": {
        "height": 0.8,
        "width": 0.8,
        "x": 0.1,
        "y": 0.1
       },
       "content": {
        "cell": "dceeb4a9-7b7f-429b-bad7-2eb1b224529b",
        "part": "whole"
       },
       "id": "4c17c4f9-1511-41e6-9ad3-f8104d12ee91"
      }
     }
    },
    "be0bf2d9-7c22-4bb5-b4e1-36579c7366cd": {
     "id": "be0bf2d9-7c22-4bb5-b4e1-36579c7366cd",
     "prev": null,
     "regions": {
      "ff3c85b4-32f5-451f-9490-99bd0356b5a0": {
       "attrs": {
        "height": 0.8,
        "width": 0.8,
        "x": 0.1,
        "y": 0.1
       },
       "content": {
        "cell": "0c20aafc-7ece-4831-bf99-6981619f480a",
        "part": "whole"
       },
       "id": "ff3c85b4-32f5-451f-9490-99bd0356b5a0"
      }
     }
    },
    "c3d7ce78-79bb-46fa-a545-9070194d513b": {
     "id": "c3d7ce78-79bb-46fa-a545-9070194d513b",
     "prev": "0111a578-0568-49d8-8c6c-af9e6ace2102",
     "regions": {
      "cbe7ae33-dbb8-45b4-bcd2-7fb9161c527d": {
       "attrs": {
        "height": 0.8,
        "width": 0.8,
        "x": 0.1,
        "y": 0.1
       },
       "content": {
        "cell": "7247a819-afaa-4d11-a372-83fd1e0a8b9c",
        "part": "whole"
       },
       "id": "cbe7ae33-dbb8-45b4-bcd2-7fb9161c527d"
      }
     }
    },
    "d8763a39-1d92-4145-b105-778c65fd74ef": {
     "id": "d8763a39-1d92-4145-b105-778c65fd74ef",
     "prev": "a09c7aaf-2283-4466-b59e-28a3c1367365",
     "regions": {
      "7dd281c1-c0ac-4566-9b44-14a1b0d2c564": {
       "attrs": {
        "height": 0.8,
        "width": 0.8,
        "x": 0.1,
        "y": 0.1
       },
       "content": {
        "cell": "63e12248-8254-4626-b3f8-03c9b03db0c2",
        "part": "whole"
       },
       "id": "7dd281c1-c0ac-4566-9b44-14a1b0d2c564"
      }
     }
    },
    "fde8dc2f-5cff-469e-9603-1939e1ac433e": {
     "id": "fde8dc2f-5cff-469e-9603-1939e1ac433e",
     "prev": "5c92f7c5-6033-4d74-98d1-9f3760f38230",
     "regions": {
      "db0b7210-e695-4c96-accc-d0872f23c11f": {
       "attrs": {
        "height": 0.8,
        "width": 0.8,
        "x": 0.1,
        "y": 0.1
       },
       "content": {
        "cell": "ffa61aad-896e-4905-bc34-0669b9bb6b10",
        "part": "whole"
       },
       "id": "db0b7210-e695-4c96-accc-d0872f23c11f"
      }
     }
    }
   },
   "themes": {
    "default": "2d0c7915-92b6-4a9c-ab45-9ea100b55245",
    "theme": {}
   }
  }
 },
 "nbformat": 4,
 "nbformat_minor": 2
}
