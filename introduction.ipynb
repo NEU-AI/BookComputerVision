{
 "cells": [
  {
   "cell_type": "markdown",
   "metadata": {},
   "source": [
    "# 机器视觉课程大纲"
   ]
  },
  {
   "cell_type": "markdown",
   "metadata": {},
   "source": [
    "《机器视觉》课程以机器视觉的基本知识为基础，通过实际案例需求及功能的实现引出相关知识点，课程的讲解更侧重与应用和通普。\n",
    "通过课程学习，可掌握机器视觉的基本方法，具备一定的解决实际问题的能力，了解机器视觉在不同领域的应用。\n",
    "课程内容包含两部分：\n",
    "\n",
    "1. 图像处理-对图片本身的一些处理，为了使图片更清晰、准确或便于分析而开展的工作；\n",
    "1. 图像分析-对图片中的内容进行解析，为识别图片包含的形状、颜色、文字等信息而开展的工作。\n",
    "\n",
    "课程开展将围绕五子棋人机对弈、智能分拣-垃圾分拣&快递分拣、新零售-智能香烟售卖系统开展。"
   ]
  },
  {
   "cell_type": "code",
   "execution_count": null,
   "metadata": {},
   "outputs": [],
   "source": []
  },
  {
   "cell_type": "code",
   "execution_count": null,
   "metadata": {},
   "outputs": [],
   "source": []
  }
 ],
 "metadata": {
  "kernelspec": {
   "display_name": "Python 3",
   "language": "python",
   "name": "python3"
  },
  "language_info": {
   "codemirror_mode": {
    "name": "ipython",
    "version": 3
   },
   "file_extension": ".py",
   "mimetype": "text/x-python",
   "name": "python",
   "nbconvert_exporter": "python",
   "pygments_lexer": "ipython3",
   "version": "3.7.0"
  }
 },
 "nbformat": 4,
 "nbformat_minor": 2
}
