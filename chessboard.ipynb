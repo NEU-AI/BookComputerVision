{
 "cells": [
  {
   "cell_type": "markdown",
   "metadata": {},
   "source": [
    "# 画棋盘"
   ]
  },
  {
   "cell_type": "markdown",
   "metadata": {},
   "source": [
    "棋盘截图\n",
    "\n",
    "分析，分解"
   ]
  },
  {
   "cell_type": "markdown",
   "metadata": {},
   "source": [
    "## 计算机颜色\n",
    "图片，三原色\n",
    "RGB"
   ]
  },
  {
   "cell_type": "code",
   "execution_count": null,
   "metadata": {},
   "outputs": [],
   "source": [
    "red = (255, 0, 0)\n",
    "green = (0, 255, 0)\n",
    "blue = (0, 0, 255)"
   ]
  },
  {
   "cell_type": "markdown",
   "metadata": {},
   "source": [
    "引入包"
   ]
  },
  {
   "cell_type": "code",
   "execution_count": null,
   "metadata": {},
   "outputs": [],
   "source": [
    "import numpy as np\n",
    "import matplotlib.pyplot as plt\n",
    "plt.ion()  # 开启笔记内显示"
   ]
  },
  {
   "cell_type": "markdown",
   "metadata": {},
   "source": [
    "显示颜色"
   ]
  },
  {
   "cell_type": "code",
   "execution_count": null,
   "metadata": {},
   "outputs": [],
   "source": [
    "colors = np.zeros([3,3,3], dtype=np.uint8)\n",
    "print(colors)"
   ]
  },
  {
   "cell_type": "markdown",
   "metadata": {},
   "source": [
    "解释，这是一个数组。再做几个数组的例子。"
   ]
  },
  {
   "cell_type": "code",
   "execution_count": null,
   "metadata": {},
   "outputs": [],
   "source": [
    "colors[0,0] = green\n",
    "print(colors)\n",
    "plt.imshow(colors)"
   ]
  },
  {
   "cell_type": "code",
   "execution_count": null,
   "metadata": {},
   "outputs": [],
   "source": [
    "colors[0,1] = red\n",
    "print(colors)\n",
    "plt.imshow(colors)"
   ]
  },
  {
   "cell_type": "markdown",
   "metadata": {},
   "source": [
    "<div class=\"alert alert-info\">\n",
    "\n",
    "**思考题**\n",
    "\n",
    "以下RGB值能得到什么颜色？\n",
    "\n",
    "1. RGB = (255,255,0)\n",
    "1. RGB = (0,255,255)\n",
    "1. RGB = (255,0,255)\n",
    "\n",
    "</div>\n",
    "\n",
    "用程序可以很容易看出来。"
   ]
  },
  {
   "cell_type": "code",
   "execution_count": null,
   "metadata": {},
   "outputs": [],
   "source": [
    "colors[1] = [(255,255,0), (0,255,255), (255,0,255)]\n",
    "plt.imshow(colors)"
   ]
  },
  {
   "cell_type": "code",
   "execution_count": null,
   "metadata": {},
   "outputs": [],
   "source": [
    "yellow = (255,255,0)"
   ]
  },
  {
   "cell_type": "markdown",
   "metadata": {},
   "source": [
    "思考：三个都是255呢？三个都是0呢？"
   ]
  },
  {
   "cell_type": "code",
   "execution_count": null,
   "metadata": {},
   "outputs": [],
   "source": [
    "black = (0,0,0)\n",
    "white = (255,255,255)"
   ]
  },
  {
   "cell_type": "markdown",
   "metadata": {},
   "source": [
    "## 灰度\n",
    "为什么是255，如果是其他值？"
   ]
  },
  {
   "cell_type": "code",
   "execution_count": null,
   "metadata": {},
   "outputs": [],
   "source": [
    "bright = np.zeros([3,5,3], dtype=np.uint8)\n",
    "bright[0] = [(255,0,0),(191,0,0),(127,0,0),(63,0,0),(0,0,0)]\n",
    "plt.imshow(bright)"
   ]
  },
  {
   "cell_type": "markdown",
   "metadata": {},
   "source": [
    "亮度降低，颜色变淡\n",
    "\n",
    "思考：如果是蓝色呢？绿色呢？"
   ]
  },
  {
   "cell_type": "code",
   "execution_count": null,
   "metadata": {},
   "outputs": [],
   "source": [
    "bright[1] = [(0,255,0),(0,191,0),(0,127,0),(0,63,0),(0,0,0)]\n",
    "bright[2] = [(0,0,255),(0,0,191),(0,0,127),(0,0,63),(0,0,0)]\n",
    "plt.imshow(bright)"
   ]
  },
  {
   "cell_type": "markdown",
   "metadata": {},
   "source": [
    "## 位图\n",
    "\n",
    "什么是位图\n",
    "\n",
    "前面的图像\n",
    "\n",
    "图像是一个大数组\n",
    "\n"
   ]
  },
  {
   "cell_type": "code",
   "execution_count": null,
   "metadata": {},
   "outputs": [],
   "source": [
    "width = 320\n",
    "height = 240\n",
    "def empty():\n",
    "    background = np.zeros([height,width,3],dtype=np.uint8) \n",
    "    background[:,:] = yellow\n",
    "    return background\n",
    "\n",
    "plt.imshow(empty())"
   ]
  },
  {
   "cell_type": "markdown",
   "metadata": {},
   "source": [
    "把一行都改成一个颜色，得到直线"
   ]
  },
  {
   "cell_type": "code",
   "execution_count": null,
   "metadata": {},
   "outputs": [],
   "source": [
    "board = empty()\n",
    "for i in range(width):\n",
    "    board[77, i] = black\n",
    "plt.imshow(board)"
   ]
  },
  {
   "cell_type": "markdown",
   "metadata": {},
   "source": [
    "思考：再画一行\n",
    "\n",
    "思考：改某一列"
   ]
  },
  {
   "cell_type": "markdown",
   "metadata": {},
   "source": [
    "## OpenCV\n",
    "\n",
    "画线的函数\n",
    "\n",
    "参数，解读"
   ]
  },
  {
   "cell_type": "code",
   "execution_count": null,
   "metadata": {},
   "outputs": [],
   "source": [
    "import cv2"
   ]
  },
  {
   "cell_type": "markdown",
   "metadata": {},
   "source": [
    "### 画国旗"
   ]
  },
  {
   "cell_type": "markdown",
   "metadata": {},
   "source": [
    "### 画棋盘"
   ]
  },
  {
   "cell_type": "code",
   "execution_count": null,
   "metadata": {},
   "outputs": [],
   "source": [
    "def board(width = 15):\n",
    "    canvas = empty()\n",
    "    for i in range(15):\n",
    "        cv2.line(canvas, (0, i*width), (width * 14, i*width), black)\n",
    "        cv2.line(canvas, (i*width, 0), (i*width, width * 14), black)\n",
    "    return canvas\n",
    "\n",
    "plt.imshow(board()) "
   ]
  },
  {
   "cell_type": "markdown",
   "metadata": {},
   "source": [
    "缺划，原因，缩放\n",
    "\n",
    "思考：这幅图的大小"
   ]
  },
  {
   "cell_type": "code",
   "execution_count": null,
   "metadata": {},
   "outputs": [],
   "source": [
    "plt.imshow(board(),interpolation=\"bicubic\")  #, interpolation='nearest'"
   ]
  },
  {
   "cell_type": "markdown",
   "metadata": {},
   "source": [
    "不好看，偏移量"
   ]
  },
  {
   "cell_type": "code",
   "execution_count": null,
   "metadata": {},
   "outputs": [],
   "source": [
    "def board(x = 17, y = 17, width = 15):\n",
    "    canvas = empty()\n",
    "    for i in range(15):\n",
    "        cv2.line(canvas, (x, y+i*width), (x + width * 14, y+i*width), black)\n",
    "        cv2.line(canvas, (x+i*width, y), (x+i*width, y + width * 14), black)\n",
    "    return canvas\n",
    "\n",
    "plt.imshow(board(),interpolation=\"bicubic\") "
   ]
  },
  {
   "cell_type": "markdown",
   "metadata": {},
   "source": [
    "\n",
    "几个交点的位置"
   ]
  },
  {
   "cell_type": "code",
   "execution_count": null,
   "metadata": {},
   "outputs": [],
   "source": []
  }
 ],
 "metadata": {
  "kernelspec": {
   "display_name": "Python 3",
   "language": "python",
   "name": "python3"
  },
  "language_info": {
   "codemirror_mode": {
    "name": "ipython",
    "version": 3
   },
   "file_extension": ".py",
   "mimetype": "text/x-python",
   "name": "python",
   "nbconvert_exporter": "python",
   "pygments_lexer": "ipython3",
   "version": "3.7.0"
  }
 },
 "nbformat": 4,
 "nbformat_minor": 4
}
