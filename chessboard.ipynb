{
 "cells": [
  {
   "cell_type": "markdown",
   "metadata": {},
   "source": [
    "# 画棋盘"
   ]
  },
  {
   "cell_type": "code",
   "execution_count": 1,
   "metadata": {
    "scrolled": true
   },
   "outputs": [],
   "source": [
    "import numpy as np\n",
    "\n",
    "import matplotlib.pyplot as plt\n",
    "#matplotlib inline\n",
    "import cv2"
   ]
  },
  {
   "cell_type": "markdown",
   "metadata": {},
   "source": [
    "## 颜色的知识"
   ]
  },
  {
   "cell_type": "code",
   "execution_count": 3,
   "metadata": {},
   "outputs": [],
   "source": [
    "red = (255, 0, 0)\n",
    "green = (0, 255, 0)\n",
    "black = (0,0,0)\n",
    "yellow = (255,255,0)\n",
    "\n",
    "plt.ion()"
   ]
  },
  {
   "cell_type": "markdown",
   "metadata": {},
   "source": [
    "显示一个颜色"
   ]
  },
  {
   "cell_type": "code",
   "execution_count": 9,
   "metadata": {},
   "outputs": [
    {
     "data": {
      "text/plain": [
       "<matplotlib.image.AxesImage at 0x1dc86b90358>"
      ]
     },
     "execution_count": 9,
     "metadata": {},
     "output_type": "execute_result"
    },
    {
     "data": {
      "image/png": "[encoded data removed]",
      "text/plain": [
       "<Figure size 432x288 with 1 Axes>"
      ]
     },
     "metadata": {},
     "output_type": "display_data"
    }
   ],
   "source": [
    "# canvas = np.full((240, 320, 3), yellow)\n",
    "def empty():\n",
    "    return np.full((240, 320, 3), yellow)\n",
    "\n",
    "ax = None\n",
    "ax = ax if ax is not None else plt.gca()\n",
    "ax.xaxis.set_major_locator(plt.NullLocator())\n",
    "ax.yaxis.set_major_locator(plt.NullLocator())\n",
    "ax.set_xticks([])\n",
    "ax.set_yticks([])\n",
    "\n",
    "plt.imshow(empty())\n",
    "# print(empty())\n",
    "# cv2.imshow(empty())"
   ]
  },
  {
   "cell_type": "code",
   "execution_count": 19,
   "metadata": {},
   "outputs": [
    {
     "data": {
      "text/plain": [
       "<matplotlib.image.AxesImage at 0x1dc886b2080>"
      ]
     },
     "execution_count": 19,
     "metadata": {},
     "output_type": "execute_result"
    },
    {
     "data": {
      "image/png": "[encoded data removed]",
      "text/plain": [
       "<Figure size 432x288 with 1 Axes>"
      ]
     },
     "metadata": {
      "needs_background": "light"
     },
     "output_type": "display_data"
    }
   ],
   "source": [
    "# plt.rcParams['figure.dpi']= 300\n",
    "\n",
    "def board(x = 17, y = 17, width = 15):\n",
    "    canvas = empty()\n",
    "    for i in range(15):\n",
    "        cv2.line(canvas, (x, y+i*width), (x + width * 14, y+i*width), black)\n",
    "        cv2.line(canvas, (x+i*width, y), (x+i*width, y + width * 14), black)\n",
    "    return canvas\n",
    "\n",
    "\n",
    "\n",
    "# dpi = 100\n",
    "# width = 3.2\n",
    "# height = 2.4\n",
    "# fig = plt.figure(figsize=(width, height), dpi=dpi)\n",
    "# ax = fig.add_axes([0, 0, 1, 1], frameon=False, aspect=1)\n",
    "# # ax.imshow(M, extent=[xmin, xmax, ymin, ymax], interpolation=\"bicubic\")\n",
    "# ax.imshow(board(), interpolation=\"bicubic\")\n",
    "# ax.set_xticks([])\n",
    "# ax.set_yticks([])\n",
    "\n",
    "# ax = None\n",
    "# ax = ax if ax is not None else plt.gca()\n",
    "# # ax.xaxis.set_major_locator(plt.NullLocator())\n",
    "# # ax.yaxis.set_major_locator(plt.NullLocator())\n",
    "\n",
    "# ax.set_xticks([])\n",
    "# ax.set_yticks([])\n",
    "# ax.figure.frameon = False\n",
    "\n",
    "# plt.figure(figsize=(6.4, 8.8))\n",
    "plt.imshow(board(),interpolation=\"bicubic\")  #, interpolation='nearest'\n",
    "# plt.show()"
   ]
  },
  {
   "cell_type": "code",
   "execution_count": null,
   "metadata": {},
   "outputs": [],
   "source": [
    "def samplemat(dims):\n",
    "    \"\"\"Make a matrix with all zeros and increasing elements on the diagonal\"\"\"\n",
    "    aa = np.zeros(dims)\n",
    "    for i in range(min(dims)):\n",
    "        aa[i, i] = i\n",
    "    return aa\n",
    "\n",
    "# Display 2 matrices of different sizes\n",
    "dimlist = [(240, 320), (15, 35)]\n",
    "for d in dimlist:\n",
    "    plt.matshow(samplemat(d))\n",
    "\n",
    "# Display a random matrix with a specified figure number and a grayscale\n",
    "# colormap\n",
    "# plt.matshow(np.random.rand(64, 64), fignum=100, cmap=plt.cm.gray)"
   ]
  },
  {
   "cell_type": "code",
   "execution_count": null,
   "metadata": {},
   "outputs": [],
   "source": []
  }
 ],
 "metadata": {
  "kernelspec": {
   "display_name": "Python 3",
   "language": "python",
   "name": "python3"
  },
  "language_info": {
   "codemirror_mode": {
    "name": "ipython",
    "version": 3
   },
   "file_extension": ".py",
   "mimetype": "text/x-python",
   "name": "python",
   "nbconvert_exporter": "python",
   "pygments_lexer": "ipython3",
   "version": "3.7.0"
  }
 },
 "nbformat": 4,
 "nbformat_minor": 2
}
